{
 "cells": [
  {
   "cell_type": "code",
   "execution_count": 1,
   "outputs": [],
   "source": [
    "import pandas as pd\n",
    "import numpy as np\n",
    "import matplotlib.pyplot as plt\n",
    "import seaborn as sns"
   ],
   "metadata": {
    "collapsed": false,
    "pycharm": {
     "name": "#%%\n"
    }
   }
  },
  {
   "cell_type": "markdown",
   "source": [
    "## Первичный статистический анализ"
   ],
   "metadata": {
    "collapsed": false,
    "pycharm": {
     "name": "#%% md\n"
    }
   }
  },
  {
   "cell_type": "markdown",
   "source": [
    "___\n",
    "### 1) Обьем, минимум, максимум, размах выборки"
   ],
   "metadata": {
    "collapsed": false,
    "pycharm": {
     "name": "#%% md\n"
    }
   }
  },
  {
   "cell_type": "code",
   "execution_count": 2,
   "outputs": [],
   "source": [
    "df = pd.read_csv(\"r1z1.csv\")"
   ],
   "metadata": {
    "collapsed": false,
    "pycharm": {
     "name": "#%%\n"
    }
   }
  },
  {
   "cell_type": "code",
   "execution_count": 3,
   "outputs": [
    {
     "name": "stdout",
     "output_type": "stream",
     "text": [
      "Min =  115.8\n",
      "Max =  125.9\n",
      "Обьем - Value = 108\n",
      "размах - разность между максимальным и минимальным значениями: 10.100000000000009\n"
     ]
    }
   ],
   "source": [
    "print(\"Min = \", df.X.min())\n",
    "print(\"Max = \", df.X.max())\n",
    "print(\"Обьем - Value =\", len(df))\n",
    "print(\"размах - разность между максимальным и минимальным значениями:\", df.X.max() - df.X.min())"
   ],
   "metadata": {
    "collapsed": false,
    "pycharm": {
     "name": "#%%\n"
    }
   }
  },
  {
   "cell_type": "markdown",
   "source": [
    "___\n",
    "### 2) Среднее, выборочную дисперсию (смещённую и несмещённую оценки), стандартное отклонение."
   ],
   "metadata": {
    "collapsed": false
   }
  },
  {
   "cell_type": "code",
   "source": [
    "print(\"Среднее mean = \", df.X.mean())\n",
    "mean = df.X.mean()\n",
    "n = len(df)\n",
    "deviations = [(x - mean) ** 2 for x in df.X]\n",
    "variance_sm = sum(deviations) / n\n",
    "print(\"Смещеная дисперсия =\", variance_sm)\n",
    "\n",
    "variance_nesm = sum(deviations) / (n-1)\n",
    "print(\"Несмещенная дисперсия = \", variance_nesm)\n",
    "\n",
    "standart_otkl = np.std(df.X)\n",
    "print(\"Стандартное отклонение = \", standart_otkl)"
   ],
   "metadata": {
    "collapsed": false,
    "pycharm": {
     "name": "#%%\n"
    }
   },
   "execution_count": 4,
   "outputs": [
    {
     "name": "stdout",
     "output_type": "stream",
     "text": [
      "Среднее mean =  120.73796296296297\n",
      "Смещеная дисперсия = 5.105132887517157\n",
      "Несмещенная дисперсия =  5.152844409830402\n",
      "Стандартное отклонение =  2.2594541127266\n"
     ]
    }
   ]
  },
  {
   "cell_type": "markdown",
   "source": [
    "#### Дисперсия.\n",
    "Выборочная дисперсия:\n",
    "\n",
    "$$ Sˆ2  = \\frac1n * sum(Xi - std)ˆ2$$\n",
    "\n",
    "Несмещенная дисперсия:\n",
    "$$ var = \\frac n (n-1) * sˆ2 $$"
   ],
   "metadata": {
    "collapsed": false,
    "pycharm": {
     "name": "#%% md\n"
    }
   }
  },
  {
   "cell_type": "markdown",
   "source": [
    "####  Стандартное отклонение\n",
    "$$ S = √Sˆ2 $$"
   ],
   "metadata": {
    "collapsed": false,
    "pycharm": {
     "name": "#%% md\n"
    }
   }
  },
  {
   "cell_type": "markdown",
   "source": [
    "----\n",
    "### 3) Ассиметрия"
   ],
   "metadata": {
    "collapsed": false,
    "pycharm": {
     "name": "#%% md\n"
    }
   }
  },
  {
   "cell_type": "code",
   "execution_count": 5,
   "outputs": [
    {
     "name": "stdout",
     "output_type": "stream",
     "text": [
      "Ассиметрия =  -0.1654783652003274\n"
     ]
    }
   ],
   "source": [
    "print(\"Ассиметрия = \", df.X.skew())"
   ],
   "metadata": {
    "collapsed": false,
    "pycharm": {
     "name": "#%%\n"
    }
   }
  },
  {
   "cell_type": "markdown",
   "source": [
    "___\n",
    "### 4) Медиана"
   ],
   "metadata": {
    "collapsed": false,
    "pycharm": {
     "name": "#%% md\n"
    }
   }
  },
  {
   "cell_type": "code",
   "execution_count": 6,
   "outputs": [
    {
     "name": "stdout",
     "output_type": "stream",
     "text": [
      "median: 120.75\n"
     ]
    }
   ],
   "source": [
    "median = np.median(df)\n",
    "print(\"median:\", median)"
   ],
   "metadata": {
    "collapsed": false,
    "pycharm": {
     "name": "#%%\n"
    }
   }
  },
  {
   "cell_type": "markdown",
   "source": [
    "___\n",
    "### 5) Интерквартильная широта"
   ],
   "metadata": {
    "collapsed": false,
    "pycharm": {
     "name": "#%% md\n"
    }
   }
  },
  {
   "cell_type": "code",
   "execution_count": 7,
   "outputs": [
    {
     "name": "stdout",
     "output_type": "stream",
     "text": [
      "инт широта =  2.799999999999997\n"
     ]
    }
   ],
   "source": [
    "a = df.X.quantile(q=0.75)\n",
    "b = df.X.quantile(q=0.25)\n",
    "print(\"инт широта = \",  a - b)\n"
   ],
   "metadata": {
    "collapsed": false,
    "pycharm": {
     "name": "#%%\n"
    }
   }
  },
  {
   "cell_type": "markdown",
   "source": [
    "------------\n",
    "## 6) Гистограмма"
   ],
   "metadata": {
    "collapsed": false,
    "pycharm": {
     "name": "#%% md\n"
    }
   }
  },
  {
   "cell_type": "code",
   "execution_count": 35,
   "outputs": [
    {
     "name": "stderr",
     "output_type": "stream",
     "text": [
      "/Users/ilgamfa/Desktop/course_mat_stat/venv/lib/python3.6/site-packages/seaborn/distributions.py:2557: FutureWarning: `distplot` is a deprecated function and will be removed in a future version. Please adapt your code to use either `displot` (a figure-level function with similar flexibility) or `histplot` (an axes-level function for histograms).\n",
      "  warnings.warn(msg, FutureWarning)\n"
     ]
    },
    {
     "data": {
      "text/plain": "Text(0, 0.5, 'Плотность вероятности')"
     },
     "execution_count": 35,
     "metadata": {},
     "output_type": "execute_result"
    },
    {
     "data": {
      "text/plain": "<Figure size 1152x648 with 1 Axes>",
      "image/png": "[encoded data removed]"
     },
     "metadata": {},
     "output_type": "display_data"
    }
   ],
   "source": [
    "plt.figure(figsize=(16,9))\n",
    "sns.set()\n",
    "sns_plot = sns.distplot(df, color=\"#4682B4\",\n",
    "                        hist_kws={'edgecolor':'#000000', 'linewidth':5},\n",
    "                        kde_kws={'color':'#8e00ce',\n",
    "                       'linewidth':5, 'linestyle':'--', 'alpha':0.9})\n",
    "\n",
    "plt.title(\"Гистограмма совмещенная с кривой плотности\")\n",
    "plt.ylabel(\"Плотность вероятности\")\n",
    "\n"
   ],
   "metadata": {
    "collapsed": false,
    "pycharm": {
     "name": "#%%\n"
    }
   }
  },
  {
   "cell_type": "markdown",
   "source": [
    "___\n",
    "## 7) Эмпирическая функция распределения."
   ],
   "metadata": {
    "collapsed": false,
    "pycharm": {
     "name": "#%% md\n"
    }
   }
  },
  {
   "cell_type": "code",
   "execution_count": 91,
   "outputs": [
    {
     "data": {
      "text/plain": "Text(0.5, 1.0, 'Эмпиричесская функция распределения')"
     },
     "execution_count": 91,
     "metadata": {},
     "output_type": "execute_result"
    },
    {
     "data": {
      "text/plain": "<Figure size 720x432 with 1 Axes>",
      "image/png": "[encoded data removed]"
     },
     "metadata": {},
     "output_type": "display_data"
    }
   ],
   "source": [
    "plt.figure(figsize=(10, 6))\n",
    "sns.ecdfplot(data=df.X)\n",
    "plt.ylabel(\"Fn(x)\")\n",
    "plt.title(\"Эмпиричесская функция распределения\")\n",
    "\n"
   ],
   "metadata": {
    "collapsed": false,
    "pycharm": {
     "name": "#%%\n"
    }
   }
  }
 ],
 "metadata": {
  "kernelspec": {
   "display_name": "Python 3",
   "language": "python",
   "name": "python3"
  },
  "language_info": {
   "codemirror_mode": {
    "name": "ipython",
    "version": 2
   },
   "file_extension": ".py",
   "mimetype": "text/x-python",
   "name": "python",
   "nbconvert_exporter": "python",
   "pygments_lexer": "ipython2",
   "version": "2.7.6"
  }
 },
 "nbformat": 4,
 "nbformat_minor": 0
}