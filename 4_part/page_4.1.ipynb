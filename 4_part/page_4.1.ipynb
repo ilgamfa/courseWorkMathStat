{
 "cells": [
  {
   "cell_type": "markdown",
   "metadata": {
    "collapsed": true,
    "pycharm": {
     "name": "#%% md\n"
    }
   },
   "source": [
    "#### Задание r4z1:\n",
    "Проверить гипотезу независимости признаков по критерию сопряженности хи-квадрат)\n",
    "α = 0.1\n",
    "Точки разбиения оси X (всего r + 1 интервал): r = 5\n",
    "X1 = 114.05, Xr = 122.05\n",
    "Точки разбиения оси Y (всего s + 1 интервал): s = 4\n",
    "Y1 = 77.05, Ys = 83.05"
   ]
  },
  {
   "cell_type": "code",
   "execution_count": 6,
   "outputs": [
    {
     "name": "stdout",
     "output_type": "stream",
     "text": [
      "[[ 5  3  4  2  1]\n",
      " [ 2  5  6  5  1]\n",
      " [ 4  3  5  5  4]\n",
      " [ 4  2  5  4  5]\n",
      " [ 0  2  5  1  2]\n",
      " [ 0  0  4  6  3]\n",
      " [15 15 29 23 16]]\n",
      "[15 19 21 20 10 13 98]\n",
      "[15 15 29 23 16]\n",
      "--------------\n",
      "    B1  B2  B3  B4  B5  nX\n",
      "X1   5   3   4   2   1  15\n",
      "X2   2   5   6   5   1  19\n",
      "X3   4   3   5   5   4  21\n",
      "X4   4   2   5   4   5  20\n",
      "X5   0   2   5   1   2  10\n",
      "X6   0   0   4   6   3  13\n",
      "nY  15  15  29  23  16  98\n",
      "Уровень значимости = 0.1\n",
      "Статистика T = 21.760537886421158\n",
      "Критический уровень значимости (p-value) = 0.35364462224920845\n",
      "H0 принимается\n"
     ]
    }
   ],
   "source": [
    "from math import inf\n",
    "import numpy as np\n",
    "from scipy import stats\n",
    "import pandas as pd\n",
    "alf = 0.1\n",
    "r = 5\n",
    "s = 4\n",
    "\n",
    "\n",
    "df1 = pd.read_csv(\"r4z1.csv\")\n",
    "\n",
    "\n",
    "def calc_n_i_j(i,j):\n",
    "    x1 = x_split[i-1]\n",
    "    x2 = x_split[i]\n",
    "    y1 = y_split[j-1]\n",
    "    y2 = y_split[j]\n",
    "    return df1[(df1['X']<x2) & (df1['X']>x1) & (df1['Y']<y2)  & (df1['Y']>y1)]\n",
    "\n",
    "\n",
    "n = len(df1['X'])\n",
    "x_split = [-inf, 114.05, 116.05, 118.05, 120.05, 122.05, inf]\n",
    "y_split = [-inf, 77.05, 79.05, 81.05, 83.05, inf]\n",
    "\n",
    "n_con = np.array([[len(calc_n_i_j(i, j)) for j in range(1, s+2)] for i in range(1, r+2)])\n",
    "nX = np.array([sum(s) for s in n_con])\n",
    "nInv = n_con.transpose()\n",
    "nY = np.array([sum(s) for s in nInv])\n",
    "n_con = np.vstack([n_con, nY])\n",
    "nX = np.append(nX, len(df1['X']))\n",
    "\n",
    "n_df_con = pd.DataFrame(n_con, columns=['B1', 'B2', 'B3', 'B4', 'B5'], index=['X1', 'X2', 'X3', 'X4', 'X5', 'X6', 'nY'])\n",
    "\n",
    "\n",
    "print(n_con)\n",
    "print(nX)\n",
    "print(nY)\n",
    "\n",
    "\n",
    "\n",
    "\n",
    "n_df_con['nX'] = nX\n",
    "\n",
    "T=0\n",
    "for i in range(r+1):\n",
    "    for m in range(s+1):\n",
    "        T += ((n*n_con[i][m] - nX[i]*nY[m])**2) / (n*nX[i]*nY[m])\n",
    "print('--------------')\n",
    "print(n_df_con)\n",
    "\n",
    "print(f\"Уровень значимости = {alf}\")\n",
    "\n",
    "print(f\"Статистика T = {T}\")\n",
    "\n",
    "\n",
    "critical = stats.chi2.ppf(1-alf,r*s)\n",
    "#print(f\"critical = {critical}\")\n",
    "p_value = 1 - stats.chi2.cdf(T,r*s)\n",
    "print(f\"Критический уровень значимости (p-value) = {p_value}\")\n",
    "if p_value > alf:\n",
    "    print(\"H0 принимается\")\n",
    "else:\n",
    "    print(\"H0 отклоняется\")"
   ],
   "metadata": {
    "collapsed": false,
    "pycharm": {
     "name": "#%%\n"
    }
   }
  },
  {
   "cell_type": "code",
   "execution_count": null,
   "outputs": [],
   "source": [],
   "metadata": {
    "collapsed": false,
    "pycharm": {
     "name": "#%%\n"
    }
   }
  }
 ],
 "metadata": {
  "kernelspec": {
   "display_name": "Python 3",
   "language": "python",
   "name": "python3"
  },
  "language_info": {
   "codemirror_mode": {
    "name": "ipython",
    "version": 2
   },
   "file_extension": ".py",
   "mimetype": "text/x-python",
   "name": "python",
   "nbconvert_exporter": "python",
   "pygments_lexer": "ipython2",
   "version": "2.7.6"
  }
 },
 "nbformat": 4,
 "nbformat_minor": 0
}