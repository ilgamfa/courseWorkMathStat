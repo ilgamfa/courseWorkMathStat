{
 "cells": [
  {
   "cell_type": "markdown",
   "metadata": {
    "collapsed": true,
    "pycharm": {
     "name": "#%% md\n"
    }
   },
   "source": [
    "#### Задание r4z2:\n",
    "Вариант Z16 (Z16: Построить линии регрессии)\n",
    "Построить прогноз (регрессию) Y по значению X\n",
    "при X = 115\n",
    "\n"
   ]
  },
  {
   "cell_type": "code",
   "execution_count": 1,
   "outputs": [],
   "source": [
    "import pandas as pd\n",
    "import matplotlib.pyplot as plt\n",
    "import numpy as np\n"
   ],
   "metadata": {
    "collapsed": false,
    "pycharm": {
     "name": "#%%\n"
    }
   }
  },
  {
   "cell_type": "code",
   "execution_count": 2,
   "outputs": [
    {
     "name": "stdout",
     "output_type": "stream",
     "text": [
      "length = 98\n"
     ]
    }
   ],
   "source": [
    "data = pd.read_csv(\"r4z2.csv\")\n",
    "n = len(data)\n",
    "print(f\"length = {n}\")\n"
   ],
   "metadata": {
    "collapsed": false,
    "pycharm": {
     "name": "#%%\n"
    }
   }
  },
  {
   "cell_type": "code",
   "execution_count": 5,
   "outputs": [],
   "source": [
    "x = 115\n",
    "\n",
    "mean_x=np.mean(data['X'])\n",
    "mean_y=np.mean(data['Y'])\n",
    "st_errx= (np.var(data['X']))**0.5\n",
    "st_erry= (np.var(data['Y']))**0.5\n",
    "r = (sum( (data['X'][i]-mean_x)*(data['Y'][i]-mean_y) for i in range(n)) / n) / (st_errx*st_erry)\n",
    "b = r*st_erry/st_errx\n",
    "b0 = mean_y - mean_x * b\n",
    "a = b\n",
    "b = b0\n",
    "y_pred = a*data['X'] + b\n",
    "prognoz_y_po_x = a*x + b"
   ],
   "metadata": {
    "collapsed": false,
    "pycharm": {
     "name": "#%%\n"
    }
   }
  },
  {
   "cell_type": "code",
   "execution_count": 6,
   "outputs": [
    {
     "data": {
      "text/plain": "<Figure size 432x288 with 1 Axes>",
      "image/png": "[encoded data removed]"
     },
     "metadata": {
      "needs_background": "light"
     },
     "output_type": "display_data"
    },
    {
     "name": "stdout",
     "output_type": "stream",
     "text": [
      "Прогноз (регрессия) Y при заданном значении X:\n",
      "79.54036587352681\n"
     ]
    }
   ],
   "source": [
    "plt.title(\"y={0}*X+{1}\".format(round(a,4),round(b,4)),fontsize=15)\n",
    "plt.scatter(data['X'], data['Y'])\n",
    "plt.plot(data['X'],y_pred, color='green')\n",
    "plt.show()\n",
    "\n",
    "print(f\"Прогноз (регрессия) Y при заданном значении X:\\n{prognoz_y_po_x}\")"
   ],
   "metadata": {
    "collapsed": false,
    "pycharm": {
     "name": "#%%\n"
    }
   }
  },
  {
   "cell_type": "code",
   "execution_count": null,
   "outputs": [],
   "source": [],
   "metadata": {
    "collapsed": false,
    "pycharm": {
     "name": "#%%\n"
    }
   }
  }
 ],
 "metadata": {
  "kernelspec": {
   "display_name": "Python 3",
   "language": "python",
   "name": "python3"
  },
  "language_info": {
   "codemirror_mode": {
    "name": "ipython",
    "version": 2
   },
   "file_extension": ".py",
   "mimetype": "text/x-python",
   "name": "python",
   "nbconvert_exporter": "python",
   "pygments_lexer": "ipython2",
   "version": "2.7.6"
  }
 },
 "nbformat": 4,
 "nbformat_minor": 0
}